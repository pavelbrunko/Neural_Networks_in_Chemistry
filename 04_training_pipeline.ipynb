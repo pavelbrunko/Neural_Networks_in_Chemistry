{
 "cells": [
  {
   "cell_type": "code",
   "execution_count": 1,
   "metadata": {},
   "outputs": [],
   "source": [
    "# Training pipeline\n",
    "# 1) Design model (input, output, forward pass)\n",
    "# 2) Construct loss and optimizer \n",
    "# 3) Training loop\n",
    "#   - forward pass: compute prediction\n",
    "#   - backward pass: gradients\n",
    "#   - update weights"
   ]
  },
  {
   "cell_type": "code",
   "execution_count": 2,
   "metadata": {},
   "outputs": [
    {
     "name": "stdout",
     "output_type": "stream",
     "text": [
      "4 1\n",
      "Prediction before training: f(5) = -4.948\n",
      "epoch 1: w = -0.541, loss=67.03077698\n",
      "epoch 11: w = 1.500, loss=2.59808135\n",
      "epoch 21: w = 1.902, loss=0.10070032\n",
      "epoch 31: w = 1.981, loss=0.00390310\n",
      "epoch 41: w = 1.996, loss=0.00015128\n",
      "epoch 51: w = 1.999, loss=0.00000586\n",
      "epoch 61: w = 2.000, loss=0.00000023\n",
      "epoch 71: w = 2.000, loss=0.00000001\n",
      "epoch 81: w = 2.000, loss=0.00000000\n",
      "epoch 91: w = 2.000, loss=0.00000000\n",
      "Predicted after training: f(5) = 10.000\n"
     ]
    }
   ],
   "source": [
    "import torch\n",
    "import torch.nn as nn\n",
    "# f = w * x\n",
    "# f = 2 * x\n",
    "X = torch.tensor([[1], [2], [3], [4]], dtype=torch.float32)\n",
    "y = torch.tensor([[2], [4], [6], [8]], dtype=torch.float32)\n",
    "\n",
    "n_samples, n_features = X.shape\n",
    "print(n_samples, n_features)\n",
    "input_size = n_features\n",
    "output_size = n_features\n",
    "model = nn.Linear(input_size, output_size, bias=False)\n",
    "\n",
    "X_test = torch.tensor([5], dtype=torch.float32)\n",
    "print(f'Prediction before training: f(5) = {model(X_test).item():.3f}')\n",
    "# Training\n",
    "lr = 0.01\n",
    "n_iters = 100\n",
    "loss = nn.MSELoss()\n",
    "optimizer = torch.optim.SGD(model.parameters(), lr=lr)\n",
    "for epoch in range(n_iters):\n",
    "    y_pred = model(X)\n",
    "    l = loss(y, y_pred)\n",
    "    # Gradient\n",
    "    l.backward()\n",
    "    # Update weights\n",
    "    optimizer.step()\n",
    "    # zero update\n",
    "    optimizer.zero_grad()\n",
    "    if epoch % 10 == 0:\n",
    "        [w] = model.parameters()\n",
    "        print(f'epoch {epoch + 1}: w = {w[0][0].item():.3f}, loss={l:.8f}')\n",
    "\n",
    "print(f'Predicted after training: f(5) = {model(X_test).item():.3f}')"
   ]
  }
 ],
 "metadata": {
  "kernelspec": {
   "display_name": "Python 3",
   "language": "python",
   "name": "python3"
  },
  "language_info": {
   "codemirror_mode": {
    "name": "ipython",
    "version": 3
   },
   "file_extension": ".py",
   "mimetype": "text/x-python",
   "name": "python",
   "nbconvert_exporter": "python",
   "pygments_lexer": "ipython3",
   "version": "3.10.6"
  },
  "orig_nbformat": 4
 },
 "nbformat": 4,
 "nbformat_minor": 2
}
