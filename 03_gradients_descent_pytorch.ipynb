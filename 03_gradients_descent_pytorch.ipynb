{
 "cells": [
  {
   "cell_type": "code",
   "execution_count": 3,
   "metadata": {},
   "outputs": [
    {
     "name": "stdout",
     "output_type": "stream",
     "text": [
      "Predicted before training: f(5) = 0.000\n",
      "epoch 1: w = 0.300, loss=30.00000000\n",
      "epoch 11: w = 1.665, loss=1.16278565\n",
      "epoch 21: w = 1.934, loss=0.04506905\n",
      "epoch 31: w = 1.987, loss=0.00174685\n",
      "epoch 41: w = 1.997, loss=0.00006770\n",
      "epoch 51: w = 1.999, loss=0.00000262\n",
      "epoch 61: w = 2.000, loss=0.00000010\n",
      "epoch 71: w = 2.000, loss=0.00000000\n",
      "epoch 81: w = 2.000, loss=0.00000000\n",
      "epoch 91: w = 2.000, loss=0.00000000\n",
      "Predicted after training: f(5) = 10.000\n"
     ]
    }
   ],
   "source": [
    "import numpy as np\n",
    "# f = w * x\n",
    "# f = 2 * x\n",
    "X = np.array([1, 2, 3, 4], dtype=np.float32)\n",
    "y = np.array([2, 4, 6, 8], dtype=np.float32)\n",
    "\n",
    "w = 0.0\n",
    "\n",
    "# model prediction\n",
    "def forward(x):\n",
    "  return w * x\n",
    "\n",
    "# loss\n",
    "def loss(y_true, y_predicted):\n",
    "  return ((y_predicted - y_true)**2).mean()\n",
    "\n",
    "def gradient(x, y_true, y_predicted):\n",
    "  return np.dot(2 * x, y_predicted - y_true) / len(x)\n",
    "\n",
    "print(f'Predicted before training: f(5) = {forward(5):.3f}')\n",
    "\n",
    "# training\n",
    "lr = 0.01\n",
    "n_iters = 100\n",
    "\n",
    "for epoch in range(n_iters):\n",
    "  y_pred = forward(X)\n",
    "  l = loss(y, y_pred)\n",
    "  dw = gradient(X, y, y_pred)\n",
    "  w -= lr * dw\n",
    "  if epoch % 10 == 0:\n",
    "    print(f'epoch {epoch + 1}: w = {w:.3f}, loss={l:.8f}')\n",
    "\n",
    "print(f'Predicted after training: f(5) = {forward(5):.3f}')\n"
   ]
  },
  {
   "cell_type": "code",
   "execution_count": 5,
   "metadata": {},
   "outputs": [
    {
     "name": "stdout",
     "output_type": "stream",
     "text": [
      "Predicted before training: f(5) = 0.000\n",
      "epoch 1: w = 0.300, loss = 30.00000000\n",
      "epoch 11: w = 1.665, loss = 1.16278565\n",
      "epoch 21: w = 1.934, loss = 0.04506890\n",
      "epoch 31: w = 1.987, loss = 0.00174685\n",
      "epoch 41: w = 1.997, loss = 0.00006770\n",
      "epoch 51: w = 1.999, loss = 0.00000262\n",
      "epoch 61: w = 2.000, loss = 0.00000010\n",
      "epoch 71: w = 2.000, loss = 0.00000000\n",
      "epoch 81: w = 2.000, loss = 0.00000000\n",
      "epoch 91: w = 2.000, loss = 0.00000000\n",
      "Predicted after training: f(5) = 10.000\n"
     ]
    }
   ],
   "source": [
    "import torch\n",
    "# f = w * x\n",
    "# f = 2 * x\n",
    "X = torch.tensor([1, 2, 3, 4], dtype=torch.float32)\n",
    "y = torch.tensor([2, 4, 6, 8], dtype=torch.float32)\n",
    "\n",
    "w = torch.tensor(0.0, dtype=torch.float32, requires_grad=True)\n",
    "\n",
    "# model prediction\n",
    "def forward(x):\n",
    "    return w * x \n",
    "\n",
    "def loss(y, y_pread):\n",
    "    return ((y_pread - y) ** 2).mean()\n",
    "\n",
    "print(f'Predicted before training: f(5) = {forward(5):.3f}')\n",
    "\n",
    "#training\n",
    "lr = 0.01\n",
    "n_iter = 100\n",
    "for epoch in range(n_iter):\n",
    "    y_pred = forward(X)\n",
    "    l = loss(y, y_pred)\n",
    "    l.backward() # dl/dw\n",
    "    with torch.no_grad():\n",
    "        w -= lr * w.grad\n",
    "    # zero gradient\n",
    "    w.grad.zero_()\n",
    "    if epoch % 10 == 0:\n",
    "        print(f'epoch {epoch + 1}: w = {w:.3f}, loss = {l:.8f}')\n",
    "\n",
    "print(f'Predicted after training: f(5) = {forward(5):.3f}')"
   ]
  }
 ],
 "metadata": {
  "kernelspec": {
   "display_name": "Python 3",
   "language": "python",
   "name": "python3"
  },
  "language_info": {
   "codemirror_mode": {
    "name": "ipython",
    "version": 3
   },
   "file_extension": ".py",
   "mimetype": "text/x-python",
   "name": "python",
   "nbconvert_exporter": "python",
   "pygments_lexer": "ipython3",
   "version": "3.10.6"
  },
  "orig_nbformat": 4
 },
 "nbformat": 4,
 "nbformat_minor": 2
}
