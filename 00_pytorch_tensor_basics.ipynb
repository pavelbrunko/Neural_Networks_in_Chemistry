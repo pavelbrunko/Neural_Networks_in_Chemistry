{
 "cells": [
  {
   "cell_type": "code",
   "execution_count": 1,
   "metadata": {},
   "outputs": [],
   "source": [
    "import torch\n"
   ]
  },
  {
   "cell_type": "code",
   "execution_count": 2,
   "metadata": {},
   "outputs": [
    {
     "name": "stdout",
     "output_type": "stream",
     "text": [
      "tensor([[[0., 0., 0.],\n",
      "         [0., 0., 0.]],\n",
      "\n",
      "        [[0., 0., 0.],\n",
      "         [0., 0., 0.]]])\n"
     ]
    }
   ],
   "source": [
    "x = torch.empty(2, 2, 3)\n",
    "print(x)"
   ]
  },
  {
   "cell_type": "code",
   "execution_count": 3,
   "metadata": {},
   "outputs": [
    {
     "name": "stdout",
     "output_type": "stream",
     "text": [
      "tensor([[0.1884, 0.2242, 0.9673],\n",
      "        [0.1934, 0.6796, 0.3371]])\n"
     ]
    }
   ],
   "source": [
    "x = torch.rand(2, 3)\n",
    "print(x)"
   ]
  },
  {
   "cell_type": "code",
   "execution_count": 4,
   "metadata": {},
   "outputs": [
    {
     "name": "stdout",
     "output_type": "stream",
     "text": [
      "torch.Size([2, 2])\n",
      "tensor([[1., 1.],\n",
      "        [1., 1.]], dtype=torch.float16)\n"
     ]
    }
   ],
   "source": [
    "x = torch.ones(2, 2, dtype=torch.float16)\n",
    "print(x.size())\n",
    "print(x)"
   ]
  },
  {
   "cell_type": "code",
   "execution_count": 5,
   "metadata": {},
   "outputs": [
    {
     "name": "stdout",
     "output_type": "stream",
     "text": [
      "tensor([2.5000, 0.1000])\n"
     ]
    }
   ],
   "source": [
    "x = torch.tensor([2.5, 0.1])\n",
    "print(x)"
   ]
  },
  {
   "cell_type": "code",
   "execution_count": 6,
   "metadata": {},
   "outputs": [
    {
     "name": "stdout",
     "output_type": "stream",
     "text": [
      "tensor([[0.8915, 0.2833],\n",
      "        [0.4532, 0.1863]])\n",
      "tensor([[0.3323, 0.7259],\n",
      "        [0.0657, 0.5827]])\n",
      "tensor([[1.2238, 1.0092],\n",
      "        [0.5189, 0.7690]])\n",
      "tensor([[1.2238, 1.0092],\n",
      "        [0.5189, 0.7690]])\n"
     ]
    }
   ],
   "source": [
    "# Arithmetic operations\n",
    "x = torch.rand(2, 2)\n",
    "y = torch.rand(2, 2)\n",
    "print(x)\n",
    "print(y)\n",
    "z = x + y\n",
    "print(z)\n",
    "# function_name with end endscore works in-place\n",
    "y.add_(x)\n",
    "print(y)"
   ]
  },
  {
   "cell_type": "code",
   "execution_count": 7,
   "metadata": {},
   "outputs": [
    {
     "name": "stdout",
     "output_type": "stream",
     "text": [
      "tensor([[0.7470, 0.5206, 0.4395],\n",
      "        [0.3215, 0.4549, 0.5275],\n",
      "        [0.2475, 0.6546, 0.7011],\n",
      "        [0.2295, 0.4586, 0.2794],\n",
      "        [0.0194, 0.4482, 0.5574]])\n",
      "tensor([0.7470, 0.3215, 0.2475, 0.2295, 0.0194])\n"
     ]
    }
   ],
   "source": [
    "# Slicing\n",
    "x = torch.rand(5, 3)\n",
    "print(x)\n",
    "print(x[:, 0])"
   ]
  },
  {
   "cell_type": "code",
   "execution_count": 8,
   "metadata": {},
   "outputs": [
    {
     "name": "stdout",
     "output_type": "stream",
     "text": [
      "tensor([[0.3931, 0.0771, 0.0913, 0.0270],\n",
      "        [0.4471, 0.5652, 0.0533, 0.2804],\n",
      "        [0.0184, 0.8498, 0.2167, 0.5321],\n",
      "        [0.9941, 0.7230, 0.9937, 0.2028]])\n",
      "tensor([[0.3931, 0.0771, 0.0913, 0.0270, 0.4471, 0.5652, 0.0533, 0.2804],\n",
      "        [0.0184, 0.8498, 0.2167, 0.5321, 0.9941, 0.7230, 0.9937, 0.2028]])\n"
     ]
    }
   ],
   "source": [
    "# Reshaping\n",
    "x = torch.rand(4, 4)\n",
    "print(x)\n",
    "# -1 implicitly specify other dimension\n",
    "y = x.view(-1, 8)\n",
    "print(y)"
   ]
  },
  {
   "cell_type": "code",
   "execution_count": 9,
   "metadata": {},
   "outputs": [
    {
     "name": "stdout",
     "output_type": "stream",
     "text": [
      "tensor([1., 1., 1., 1., 1.])\n",
      "<class 'numpy.ndarray'>\n",
      "[1. 1. 1. 1. 1.]\n",
      "tensor([2., 2., 2., 2., 2.])\n",
      "[2. 2. 2. 2. 2.]\n"
     ]
    }
   ],
   "source": [
    "# Conversion to numpy array\n",
    "import numpy as np\n",
    "a = torch.ones(5)\n",
    "print(a)\n",
    "b = a.numpy()\n",
    "print(type(b))\n",
    "print(b)\n",
    "# Mind the same memory location\n",
    "#a and b point to the same memory location\n",
    "a.add_(1)\n",
    "print(a)\n",
    "print(b)"
   ]
  },
  {
   "cell_type": "code",
   "execution_count": 10,
   "metadata": {},
   "outputs": [
    {
     "name": "stdout",
     "output_type": "stream",
     "text": [
      "False\n"
     ]
    }
   ],
   "source": [
    "print(torch.cuda.is_available())\n",
    "if torch.cuda.is_available():\n",
    "  device = torch.device(\"cuda\")\n",
    "  x = torch.ones(5, device=device)\n",
    "  y = torch.ones(5)\n",
    "  y = y.to(device)\n",
    "  z = x + y\n",
    "  # Gives an error, to_numpy() works only with cpu\n",
    "  #print(z.numpy())\n",
    "  z = z.to(\"cpu\")\n",
    "  #print(z.numpy())"
   ]
  },
  {
   "cell_type": "code",
   "execution_count": 11,
   "metadata": {},
   "outputs": [
    {
     "name": "stdout",
     "output_type": "stream",
     "text": [
      "tensor([1., 1., 1., 1., 1.], requires_grad=True)\n"
     ]
    }
   ],
   "source": [
    "x = torch.ones(5, requires_grad=True)\n",
    "print(x)"
   ]
  }
 ],
 "metadata": {
  "kernelspec": {
   "display_name": "Python 3",
   "language": "python",
   "name": "python3"
  },
  "language_info": {
   "codemirror_mode": {
    "name": "ipython",
    "version": 3
   },
   "file_extension": ".py",
   "mimetype": "text/x-python",
   "name": "python",
   "nbconvert_exporter": "python",
   "pygments_lexer": "ipython3",
   "version": "3.10.6"
  },
  "orig_nbformat": 4
 },
 "nbformat": 4,
 "nbformat_minor": 2
}
